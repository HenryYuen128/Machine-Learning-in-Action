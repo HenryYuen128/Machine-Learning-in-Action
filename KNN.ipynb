{
 "cells": [
  {
   "cell_type": "markdown",
   "metadata": {},
   "source": [
    " ### KNN算法优缺点：\n",
    " 优点：精度高，对异常值不敏感，无数据输入假定\n",
    " \n",
    " 缺点：计算复杂度高，空间复杂度高\n",
    " \n",
    " 适用数据范围：数值型和标称型\n"
   ]
  },
  {
   "cell_type": "code",
   "execution_count": 39,
   "metadata": {},
   "outputs": [
    {
     "data": {
      "image/png": "[encoded data removed]",
      "text/plain": [
       "<Figure size 432x288 with 1 Axes>"
      ]
     },
     "metadata": {
      "needs_background": "light"
     },
     "output_type": "display_data"
    },
    {
     "name": "stdout",
     "output_type": "stream",
     "text": [
      "[1.  1.1]\n"
     ]
    }
   ],
   "source": [
    "import numpy as np\n",
    "import operator\n",
    "import matplotlib.pyplot as plt\n",
    "import collections\n",
    "\n",
    "\n",
    "\n",
    "def createDataset():\n",
    "    dataset = np.array([[1.0, 1.1], [0.2, 0.5], [0, 0.5], [0, 0.1]])\n",
    "    labels = ['A', 'A', 'B', 'B']\n",
    "    return dataset, labels\n",
    "\n",
    "\n",
    "def visualization(dataset, labels):\n",
    "#     t = [i[0] for i in dataset]\n",
    "#     print(t)\n",
    "    plt.scatter(x=[i[0] for i in dataset[:2]],y=[j[1] for j in dataset[:2]])\n",
    "    plt.scatter(x=[i[0] for i in dataset[2:]],y=[j[1] for j in dataset[2:]])\n",
    "    plt.legend(labels=labels)\n",
    "    plt.show()\n",
    "    \n",
    "dataset, labels = createDataset()\n",
    "visualization(dataset, lables)\n",
    "print(dataset[0])"
   ]
  },
  {
   "cell_type": "code",
   "execution_count": 51,
   "metadata": {},
   "outputs": [],
   "source": [
    "def classify(sample, dataset, labels, K):\n",
    "    # Compute distance with Eculidean Metrics\n",
    "#     dis = (((sample - dataset)**2).sum(axis = 1))**0.5\n",
    "    dis = np.sum((sample - dataset)**2, axis=1)**0.5\n",
    "    inds = np.argsort(dis)\n",
    "    k_nn_labels = [labels[x] for x in inds[:K]]\n",
    "    label = collections.Counter(k_nn_labels).most_common(1)[0][0]\n",
    "    return label"
   ]
  },
  {
   "cell_type": "code",
   "execution_count": 52,
   "metadata": {},
   "outputs": [
    {
     "data": {
      "text/plain": [
       "'A'"
      ]
     },
     "execution_count": 52,
     "metadata": {},
     "output_type": "execute_result"
    }
   ],
   "source": [
    "classify([1,2], dataset, labels, 3)"
   ]
  }
 ],
 "metadata": {
  "kernelspec": {
   "display_name": "Python 3",
   "language": "python",
   "name": "python3"
  },
  "language_info": {
   "codemirror_mode": {
    "name": "ipython",
    "version": 3
   },
   "file_extension": ".py",
   "mimetype": "text/x-python",
   "name": "python",
   "nbconvert_exporter": "python",
   "pygments_lexer": "ipython3",
   "version": "3.7.3"
  }
 },
 "nbformat": 4,
 "nbformat_minor": 2
}
